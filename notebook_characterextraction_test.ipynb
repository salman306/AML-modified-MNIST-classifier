{
 "cells": [
  {
   "cell_type": "code",
   "execution_count": 3,
   "metadata": {},
   "outputs": [],
   "source": [
    "X = pd.read_csv(\"train_x.csv\", header = None)"
   ]
  },
  {
   "cell_type": "code",
   "execution_count": 69,
   "metadata": {},
   "outputs": [],
   "source": [
    "import pandas as pd\n",
    "import numpy as np\n",
    "import cv2\n",
    "import heapq\n",
    "import matplotlib.pyplot as plt\n",
    "\n",
    "class characterExtractor:\n",
    "\n",
    "    WHITE = 255\n",
    "\n",
    "    SOFT_THRESH = 205\n",
    "    HARD_THRESH = 254\n",
    "\n",
    "    MAX_WHITE_PX_THRESH = 730\n",
    "\n",
    "    MAX_CONTOURS_THRESH = 10\n",
    "\n",
    "    CHAR_PERIMETER_THRESH = 15\n",
    "    CHAR_AREA_THRESH = 19\n",
    "\n",
    "    def __init__(self, data_csv=None, pd_data=None):\n",
    "        \"\"\" Expecting train_x or test_x csv file \"\"\"\n",
    "\n",
    "        if len(pd_data.index):\n",
    "            self.data = pd_data\n",
    "        else:\n",
    "            self.data = pd.read_csv(data_csv, header = None)\n",
    "\n",
    "    def extractCharacters(self, x_serie):\n",
    "        \"\"\" Extract all characters from img \"\"\"\n",
    "        global img_og\n",
    "        img_og = x_serie.values.reshape(64,64).astype(np.uint8)\n",
    "        img = img_og.copy()\n",
    "\n",
    "        #apply first soft threshold\n",
    "        _ , img = cv2.threshold(img, self.SOFT_THRESH, self.WHITE, cv2.THRESH_BINARY)\n",
    "\n",
    "\n",
    "        #apply second hard threshold for bright patterns \n",
    "        img_white_px = len(img[img > self.SOFT_THRESH])\n",
    "        if img_white_px > self.MAX_WHITE_PX_THRESH:\n",
    "            _ , img = cv2.threshold(img, self.HARD_THRESH, self.WHITE, cv2.THRESH_BINARY)\n",
    "\n",
    "        #apply median blur for the rice patterns\n",
    "        _ , contours , _ = cv2.findContours(img, cv2.RETR_EXTERNAL,cv2.CHAIN_APPROX_SIMPLE)\n",
    "        if len(contours) > self.MAX_CONTOURS_THRESH: \n",
    "            img = cv2.medianBlur(img, 3)\n",
    "            _ , contours , _ = cv2.findContours(img, cv2.RETR_EXTERNAL,cv2.CHAIN_APPROX_SIMPLE)\n",
    "\n",
    "        #extract potential character contours\n",
    "        c = self.findPotentialContours(contours)\n",
    "        (img_c1, img_c2, img_c3) = self.processPotentialContours(c, img)\n",
    "        \n",
    "        return (img_c1, img_c2, img_c3)\n",
    "        #should just return the images\n",
    "        #instead of plotting\n",
    "        \n",
    "    def findPotentialContours(self, contours):\n",
    "        c = []\n",
    "        for cnt in contours:\n",
    "            perimeter = cv2.arcLength(cnt, True)\n",
    "            area = cv2.contourArea(cnt)\n",
    "            if perimeter > self.CHAR_PERIMETER_THRESH and area > self.CHAR_AREA_THRESH:\n",
    "                heapq.heappush(c, (-perimeter, -area, cnt))\n",
    "                \n",
    "        return c\n",
    "\n",
    "    def processPotentialContours(self, c, img, d=None):\n",
    "        num_chars = len(c)\n",
    "        \n",
    "        if num_chars > 3:\n",
    "            print(\">3\")\n",
    "            #restart image processing with another approach\n",
    "            if not d:\n",
    "                d = 2\n",
    "            img = img_og.copy()\n",
    "            img = cv2.dilate(img,np.ones((d,d),np.uint8),iterations=1)\n",
    "            _, img = cv2.threshold(img, 230, 255, cv2.THRESH_BINARY)\n",
    "            _ , contours , _ = cv2.findContours(img, cv2.RETR_EXTERNAL,cv2.CHAIN_APPROX_SIMPLE)\n",
    "            \n",
    "            new_c = self.findPotentialContours(contours)\n",
    "            return self.processPotentialContours(new_c,img,d=d+1)\n",
    "            \n",
    "        elif num_chars == 2:\n",
    "            print(\"CUT MIDDLE\")\n",
    "            img_c1,img_c2,img_c3 = self.getCharactersAfterMiddleCut(c, img)\n",
    "            return (img_c1,img_c2,img_c3)\n",
    "        elif num_chars < 2:\n",
    "            print(\"<2\")\n",
    "        else:\n",
    "            print(\"PERFECT\")\n",
    "#             print(c)\n",
    "            cnt1 = heapq.heappop(c)[2]\n",
    "            cnt2 = heapq.heappop(c)[2]\n",
    "            cnt3 = heapq.heappop(c)[2]\n",
    "            \n",
    "            c1 = cv2.boundingRect( cnt1 )\n",
    "            c2 = cv2.boundingRect( cnt2 )\n",
    "            c3 = cv2.boundingRect( cnt3 )\n",
    "            \n",
    "            img_c1 = self.getImgFromContour(c1, img)\n",
    "            img_c2 = self.getImgFromContour(c2, img)\n",
    "            img_c3 = self.getImgFromContour(c3, img)\n",
    "            \n",
    "            return (img_c1, img_c2, img_c3)\n",
    "            \n",
    "    def getCharactersAfterMiddleCut(self, c, img):\n",
    "        biggest_contour = heapq.heappop(c)[1]\n",
    "        x,y,w,h = cv2.boundingRect(biggest_contour)\n",
    "        \n",
    "        if w > h: # width bigger than height, cut in middle of width\n",
    "            m = w//2\n",
    "            c1 = (x  , y, m, h)\n",
    "            c2 = (x+m, y, m, h)\n",
    "        else:\n",
    "            m = h//2\n",
    "            c1 = (x, y  , w, m)\n",
    "            c2 = (x, y+m, w, m)\n",
    "        \n",
    "        #in case characters are in diagonal of each other\n",
    "        img_c1 = self.getImgFromContour(c1,img)\n",
    "        img_c2 = self.getImgFromContour(c2,img)\n",
    "        \n",
    "        _ , contours_c1 , _ = cv2.findContours(img_c1, cv2.RETR_EXTERNAL,cv2.CHAIN_APPROX_SIMPLE)\n",
    "        print(\"c1\",len(contours_c1))\n",
    "        _ , contours_c2 , _ = cv2.findContours(img_c2, cv2.RETR_EXTERNAL,cv2.CHAIN_APPROX_SIMPLE)\n",
    "        print(\"c2\",len(contours_c2))\n",
    "        \n",
    "        c1 = cv2.boundingRect( max(contours_c1, key = cv2.contourArea) )\n",
    "        c2 = cv2.boundingRect( max(contours_c2, key = cv2.contourArea) )\n",
    "        c3 = cv2.boundingRect( heapq.heappop(c)[1] )\n",
    "        \n",
    "        #print(c1,c2,c3)\n",
    "        \n",
    "        img_c1 = self.getImgFromContour(c1,img_c1)\n",
    "        img_c2 = self.getImgFromContour(c2,img_c2)\n",
    "        img_c3 = self.getImgFromContour(c3,img)\n",
    "               \n",
    "        return (img_c1,img_c2,img_c3)\n",
    "    \n",
    "    def getImgFromContour(self, cnt_bound, img_copy):\n",
    "        x,y,w,h = cnt_bound\n",
    "        print(x,y,w,h)\n",
    "        return img_copy[y:y+h, x:x+w]\n",
    "\n",
    "    def extractCharactersFrom(self, choice):\n",
    "        x_serie = self.data.iloc[choice]\n",
    "        self.extractCharacters(x_serie)\n",
    "\n",
    "    def extractCharactersFromAndPlot(self, choice):\n",
    "        x_serie = self.data.iloc[choice]\n",
    "        char_imgs = self.extractCharacters(x_serie)\n",
    "        \n",
    "        plt.figure(figsize=(5,5))\n",
    "        m_size = (1,3)\n",
    "        for i,img in enumerate(char_imgs):\n",
    "            plt.subplot(1, 3, i+1)\n",
    "            plt.imshow(img, cmap='gray')\n",
    "            plt.title(\"\"), plt.xticks([]), plt.yticks([])\n",
    "            #self.plot_img(img, \"\",(i+1))\n",
    "        plt.show()\n",
    "\n",
    "    def plot_img(img, title, size, pos):\n",
    "        plt.subplot(size[0], size[1], pos), plt.imshow(img, cmap=\"gray\")\n",
    "        plt.title(title), plt.xticks([]), plt.yticks([])\n"
   ]
  },
  {
   "cell_type": "code",
   "execution_count": 70,
   "metadata": {},
   "outputs": [],
   "source": [
    "ce = characterExtractor(pd_data=X)"
   ]
  },
  {
   "cell_type": "code",
   "execution_count": 71,
   "metadata": {
    "scrolled": false
   },
   "outputs": [
    {
     "name": "stdout",
     "output_type": "stream",
     "text": [
      ">3\n",
      ">3\n",
      "PERFECT\n",
      "37 20 23 25\n",
      "3 38 24 19\n",
      "9 8 16 22\n"
     ]
    }
   ],
   "source": [
    "ce.extractCharactersFrom(11674)"
   ]
  },
  {
   "cell_type": "code",
   "execution_count": 76,
   "metadata": {},
   "outputs": [
    {
     "name": "stdout",
     "output_type": "stream",
     "text": [
      ">3\n",
      "PERFECT\n",
      "34 23 19 25\n",
      "3 11 29 14\n",
      "9 44 23 16\n"
     ]
    },
    {
     "data": {
      "image/png": "[encoded data removed]",
      "text/plain": [
       "<matplotlib.figure.Figure at 0x113f5a278>"
      ]
     },
     "metadata": {},
     "output_type": "display_data"
    }
   ],
   "source": [
    "ce.extractCharactersFromAndPlot(13143)"
   ]
  },
  {
   "cell_type": "code",
   "execution_count": null,
   "metadata": {},
   "outputs": [],
   "source": []
  },
  {
   "cell_type": "code",
   "execution_count": null,
   "metadata": {},
   "outputs": [],
   "source": []
  }
 ],
 "metadata": {
  "kernelspec": {
   "display_name": "Python 3",
   "language": "python",
   "name": "python3"
  },
  "language_info": {
   "codemirror_mode": {
    "name": "ipython",
    "version": 3
   },
   "file_extension": ".py",
   "mimetype": "text/x-python",
   "name": "python",
   "nbconvert_exporter": "python",
   "pygments_lexer": "ipython3",
   "version": "3.6.2"
  }
 },
 "nbformat": 4,
 "nbformat_minor": 2
}
