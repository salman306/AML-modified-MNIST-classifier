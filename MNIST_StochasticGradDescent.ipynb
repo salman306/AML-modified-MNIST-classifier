{
 "cells": [
  {
   "cell_type": "markdown",
   "metadata": {},
   "source": [
    "__All the functions needed to run the neural net__"
   ]
  },
  {
   "cell_type": "code",
   "execution_count": 1,
   "metadata": {
    "collapsed": true
   },
   "outputs": [],
   "source": [
    "## activation function\n",
    "def act_func(a, switch_ = 2):\n",
    "    if switch_ == 1: # linear activation\n",
    "        g = a\n",
    "    elif switch_ == 2: # sigmoid activation\n",
    "        g = 1.0 / (1.0 + np.exp(-1.0 * a))\n",
    "    elif switch_ == 3: # tanh() activation\n",
    "        g = np.tanh(a)\n",
    "    elif switch_ == 4: # ReLU activation\n",
    "        g = a.copy()\n",
    "        g[g<0] = 0\n",
    "    return g\n",
    "\n",
    "# derivative of the activation function wrt input\n",
    "def der_act_func(x, switch_ = 2):\n",
    "    if switch_ == 1: # linear activation\n",
    "        g = np.zeros(np.shape(x))+1\n",
    "    elif switch_ == 2: # sigmoid activation\n",
    "        g =  x * (1.0-x)\n",
    "    elif switch_ == 3: # tanh() activation\n",
    "        g = 1 - x**2\n",
    "    elif switch_ == 4: # ReLU activation\n",
    "        g = a.copy()\n",
    "        g[g<0] = 0\n",
    "        g[g>0] = 1\n",
    "    return g\n",
    "\n",
    "## neural net itself\n",
    "def neur_net(x, w_list, b, num_lay):\n",
    "    h_list = []\n",
    "    # set input as the first layer ([1, N])\n",
    "    h = x\n",
    "    h_list.append(h)\n",
    "    #### for each layer ([1, N+H])\n",
    "    for lay in range(num_lay-1):\n",
    "        # neuron pre-activation\n",
    "        a = b[lay] + np.dot(w_list[lay].T, h)\n",
    "\n",
    "        # activation function for layer 1\n",
    "        h = act_func(a)\n",
    "        h_list.append(h)\n",
    "\n",
    "    #pre-activation for output layer  (N+H+1)\n",
    "    lay = num_lay-1\n",
    "    a_out = b[lay] + np.dot(w_list[lay].T, h)\n",
    "\n",
    "    # activation function for output layer\n",
    "    f1 = act_func(a_out)\n",
    "#     print('sigmoid act')\n",
    "#     print(f1)\n",
    "    f = softmax(a_out)\n",
    "#     print('softmax act')\n",
    "#     print(f)\n",
    "    h_list.append(f)\n",
    "    return f, h_list#, f1\n",
    "\n",
    "# initialize weights in the correct shape\n",
    "def init_weights(num_neur_per_lay):\n",
    "    w_list = []\n",
    "#     np.random.seed(1)\n",
    "    for i in range(len(num_neur_per_lay)-1):\n",
    "    # initialize the weights so that they're in the right format\n",
    "        w = 2 * np.random.random((num_neur_per_lay[i], num_neur_per_lay[i+1])) - 1\n",
    "        w_list.append(w)\n",
    "#     print(w_list)\n",
    "    return w_list\n",
    "\n",
    "# update the weights\n",
    "def update_w(error, outp, inp, weight, alpha):\n",
    "    # calculate the error in output, this on its own goes for bias correction\n",
    "    del_out = error * der_act_func(outp)\n",
    "    # mulitply it by the input, this comes from the partial derivate wrt the weights\n",
    "    del_w = np.dot(inp, del_out.T)\n",
    "    # calculate error that we're going to propagate to the previous layer\n",
    "    prev_err = np.dot(weight, del_out )\n",
    "    return weight + alpha * del_w, prev_err, del_out # update\n",
    "\n",
    "# initialize the biases\n",
    "def init_bias(num_neur_per_lay, nonzeros=False):\n",
    "    b_list = []\n",
    "    np.random.seed(1)\n",
    "    for i in range(len(num_neur_per_lay)-1):\n",
    "    # initialize the weights so that they're in the right format\n",
    "        if nonzeros:\n",
    "            w = 2 * np.random.random((num_neur_per_lay[i+1],1)) - 1\n",
    "            b_list.append(w)\n",
    "        else:\n",
    "            w = 2 * np.zeros((num_neur_per_lay[i+1],1)) - 1\n",
    "            b_list.append(w)     \n",
    "    return b_list\n",
    "\n",
    "# softmax for the output layer (not yet used)\n",
    "def softmax(x):\n",
    "    return np.exp(x) / np.sum(np.exp(x),0,keepdims=True)\n",
    "\n",
    "## loss function, basically error\n",
    "def error_func(output, y_label, is_squared=True):\n",
    "    if is_squared:\n",
    "        error = np.mean( (y_label - output)**2 / 2)\n",
    "    else:\n",
    "        error = np.mean(- y_label * np.nan_to_num(np.log(output)) - (1 - y_label) * np.nan_to_num(np.log(1-output)))\n",
    "    return error\n",
    "\n",
    "## derivative of the loss function\n",
    "def error_der(output, y_label, is_squared=True):\n",
    "    if is_squared:\n",
    "        error = y_label - output\n",
    "    else:\n",
    "        error = np.nan_to_num(np.divide(y_label, output) + np.divide((1 - y_label), (1 - output)))\n",
    "        error = np.divide(y_label, output) - np.divide((1 - y_label), (1 - output))\n",
    "    return error"
   ]
  },
  {
   "cell_type": "markdown",
   "metadata": {},
   "source": [
    "__Load input and label__"
   ]
  },
  {
   "cell_type": "code",
   "execution_count": 2,
   "metadata": {},
   "outputs": [
    {
     "name": "stdout",
     "output_type": "stream",
     "text": [
      "Extracting MNIST_data/train-images-idx3-ubyte.gz\n",
      "Extracting MNIST_data/train-labels-idx1-ubyte.gz\n",
      "Extracting MNIST_data/t10k-images-idx3-ubyte.gz\n",
      "Extracting MNIST_data/t10k-labels-idx1-ubyte.gz\n"
     ]
    }
   ],
   "source": [
    "from tensorflow.examples.tutorials.mnist import input_data\n",
    "mnist = input_data.read_data_sets(\"MNIST_data/\", one_hot=True)"
   ]
  },
  {
   "cell_type": "code",
   "execution_count": 3,
   "metadata": {},
   "outputs": [
    {
     "name": "stdout",
     "output_type": "stream",
     "text": [
      "(3, 4)\n",
      "(2, 4)\n",
      "(784, 36850)\n",
      "(10, 36850)\n",
      "(28038, 784)\n",
      "(28038, 10)\n"
     ]
    }
   ],
   "source": [
    "import numpy as np\n",
    "from sklearn.model_selection import train_test_split\n",
    "# import NeuralNets\n",
    "\n",
    "x = np.array([[0,0,1],[1,1,1],[1,0,1],[0,1,1]]).T\n",
    "y = np.array([[0,0],[1,0],[1,0],[0,0]]).T\n",
    "print(np.shape(x))\n",
    "print(np.shape(y))\n",
    "\n",
    "X = mnist.train.images#[0:10000]\n",
    "Y = mnist.train.labels#[0:10000]\n",
    "bool_0 = (Y == np.array([[ 1.,  0.,  0.,  0.,  0.,  0.,  0.,  0.,  0.,  0.]])).all(1)\n",
    "bool_1 = (Y == np.array([[ 0.,  1.,  0.,  0.,  0.,  0.,  0.,  0.,  0.,  0.]])).all(1)\n",
    "bool_2 = (Y == np.array([[ 0.,  0.,  1.,  0.,  0.,  0.,  0.,  0.,  0.,  0.]])).all(1)\n",
    "bool_3 = (Y == np.array([[ 0.,  0.,  0.,  1.,  0.,  0.,  0.,  0.,  0.,  0.]])).all(1)\n",
    "bool_4 = (Y == np.array([[ 0.,  0.,  0.,  0.,  1.,  0.,  0.,  0.,  0.,  0.]])).all(1)\n",
    "bool_5 = (Y == np.array([[ 0.,  0.,  0.,  0.,  0.,  1.,  0.,  0.,  0.,  0.]])).all(1)\n",
    "bool_6 = (Y == np.array([[ 0.,  0.,  0.,  0.,  0.,  0.,  1.,  0.,  0.,  0.]])).all(1)\n",
    "bool_7 = (Y == np.array([[ 0.,  0.,  0.,  0.,  0.,  0.,  0.,  1.,  0.,  0.]])).all(1)\n",
    "bool_8 = (Y == np.array([[ 0.,  0.,  0.,  0.,  0.,  0.,  0.,  0.,  1.,  0.]])).all(1)\n",
    "bool_9 = (Y == np.array([[ 0.,  0.,  0.,  0.,  0.,  0.,  0.,  0.,  0.,  1.]])).all(1)\n",
    "bool_ = (bool_0 | bool_1 | bool_2 | bool_3 | bool_4)\n",
    "\n",
    "# x_train, x_test, y_train, y_test = train_test_split(X[bool_], Y[bool_], test_size=0.33, random_state=42)\n",
    "x_train, x_test, y_train, y_test = train_test_split(X, Y, test_size=0.33, random_state=42)\n",
    "\n",
    "\n",
    "###### SUPER important to have them in the right format/dimension\n",
    "x_train = x_train.T\n",
    "x_test=x_test.T\n",
    "y_train=y_train.T\n",
    "y_test=y_test.T\n",
    "# print(x_train)\n",
    "# print(y_train)\n",
    "print(np.shape(x_train))\n",
    "print(np.shape(y_train))\n",
    "# print(X.T)\n",
    "# print(Y.T)\n",
    "print(np.shape(X[bool_]))\n",
    "print(np.shape(Y[bool_]))\n",
    "# print(len(mnist.train.labels))"
   ]
  },
  {
   "cell_type": "code",
   "execution_count": 4,
   "metadata": {},
   "outputs": [
    {
     "name": "stdout",
     "output_type": "stream",
     "text": [
      "(28, 28)\n"
     ]
    },
    {
     "data": {
      "image/png": "[encoded data removed]",
      "text/plain": [
       "<matplotlib.figure.Figure at 0x11974a6d0>"
      ]
     },
     "metadata": {},
     "output_type": "display_data"
    }
   ],
   "source": [
    "# just plot one\n",
    "import matplotlib.pyplot as plt\n",
    "# print(x_train.T[0])\n",
    "print(np.shape(x_train.T[0].reshape(28,28)))\n",
    "plt.imshow(x_train.T[0].reshape(28,28), cmap='gray')\n",
    "plt.show()\n",
    "\n"
   ]
  },
  {
   "cell_type": "code",
   "execution_count": 204,
   "metadata": {
    "collapsed": true
   },
   "outputs": [],
   "source": [
    "x_train = np.array([[0,0,1],[1,1,1],[1,0,1],[0,1,0]]).T\n",
    "y_train = np.array([[0,1],[1,1],[1,1],[0,0]]).T\n",
    "x_test = np.array([[1,0,0]]).T\n",
    "y_test = np.array([[1,0]]).T\n",
    "\n",
    "\n",
    "x_train = np.array([[0,0,1,0],[0,0,1,0],[0,1,0,0],[1,0,0,0]]).T\n",
    "y_train = np.array([[0,0,1,0],[0,0,1,0],[0,1,0,0],[1,0,0,0]]).T\n",
    "x_test = np.array([[1,0,0,0]]).T\n",
    "y_test = np.array([[1,0,0,0]]).T\n"
   ]
  },
  {
   "cell_type": "markdown",
   "metadata": {},
   "source": [
    "__Initialize weights and biases__"
   ]
  },
  {
   "cell_type": "code",
   "execution_count": 4,
   "metadata": {},
   "outputs": [
    {
     "name": "stdout",
     "output_type": "stream",
     "text": [
      "10\n",
      "Number of nodes per layers. First layer is the input, last is the output \n",
      "[784 300  10]\n"
     ]
    }
   ],
   "source": [
    "num_inputs = int(x_train.shape[0])\n",
    "num_outputs = y_train.shape[0]\n",
    "print(num_outputs)\n",
    "###### modify this if you want to have more layer or change the #of nodes per layer\n",
    "num_neur_per_lay = np.array([num_inputs,300,num_outputs])\n",
    "## e.g. num_neur_per_lay = np.array([num_inputs,300,100,num_outputs]), \n",
    "## gives you 2 hidden layer with 300 nodes in the first one and 100 in the second one\n",
    "\n",
    "print 'Number of nodes per layers. First layer is the input, last is the output '\n",
    "print num_neur_per_lay\n",
    "num_lay = len(num_neur_per_lay)-1\n",
    "\n",
    "# initialize weights based on input and output format\n",
    "w_list = init_weights(num_neur_per_lay)\n",
    "# initialize biases based on input and output format\n",
    "b = init_bias(num_neur_per_lay)"
   ]
  },
  {
   "cell_type": "code",
   "execution_count": 15,
   "metadata": {
    "collapsed": true
   },
   "outputs": [],
   "source": []
  },
  {
   "cell_type": "code",
   "execution_count": 6,
   "metadata": {
    "scrolled": false
   },
   "outputs": [
    {
     "name": "stdout",
     "output_type": "stream",
     "text": [
      "Before\n",
      "[784 300  10]\n",
      "Training error with initial weights = 0.128219604881\n",
      "Training accuracy with initial weights = 0.781818181818\n",
      "Test accuracy with random weights = 0.778071625344\n",
      "Start backprop with alpha = 1e-05\n",
      "After 0 out of 1000 backprop. Training error = 0.127174610155, test error = 0.0162463663867\n",
      "Training accuracy = 0.784016282225, test accuracy = 0.780055096419\n",
      "After 10 out of 1000 backprop. Training error = 0.119581719655, test error = 0.0154110997586\n",
      "Training accuracy = 0.79565807327, test accuracy = 0.791680440771\n",
      "After 20 out of 1000 backprop. Training error = 0.113552845504, test error = 0.0147323845985\n",
      "Training accuracy = 0.804721845319, test accuracy = 0.801487603306\n",
      "After 30 out of 1000 backprop. Training error = 0.108521381211, test error = 0.0141595806877\n",
      "Training accuracy = 0.812157394844, test accuracy = 0.809972451791\n",
      "After 40 out of 1000 backprop. Training error = 0.104231893427, test error = 0.0136682086401\n",
      "Training accuracy = 0.818588873813, test accuracy = 0.815757575758\n",
      "After 50 out of 1000 backprop. Training error = 0.100510155495, test error = 0.0132400718166\n",
      "Training accuracy = 0.825780189959, test accuracy = 0.821707988981\n",
      "After 60 out of 1000 backprop. Training error = 0.0972335915153, test error = 0.012861839568\n",
      "Training accuracy = 0.830800542741, test accuracy = 0.826666666667\n",
      "After 70 out of 1000 backprop. Training error = 0.0943136583349, test error = 0.0125237965267\n",
      "Training accuracy = 0.835169606513, test accuracy = 0.831570247934\n",
      "After 80 out of 1000 backprop. Training error = 0.0916849441822, test error = 0.0122187835516\n",
      "Training accuracy = 0.839240162822, test accuracy = 0.835592286501\n",
      "After 90 out of 1000 backprop. Training error = 0.0892981539033, test error = 0.0119414312435\n",
      "Training accuracy = 0.843934871099, test accuracy = 0.838622589532\n",
      "After 100 out of 1000 backprop. Training error = 0.0871154368034, test error = 0.0116876266184\n",
      "Training accuracy = 0.847571234735, test accuracy = 0.842369146006\n",
      "After 110 out of 1000 backprop. Training error = 0.0851072032403, test error = 0.0114541399867\n",
      "Training accuracy = 0.851017639077, test accuracy = 0.845785123967\n",
      "After 120 out of 1000 backprop. Training error = 0.0832499209403, test error = 0.011238367058\n",
      "Training accuracy = 0.854029850746, test accuracy = 0.849201101928\n",
      "After 130 out of 1000 backprop. Training error = 0.0815245682245, test error = 0.0110381564662\n",
      "Training accuracy = 0.856743554953, test accuracy = 0.852672176309\n",
      "After 140 out of 1000 backprop. Training error = 0.079915533865, test error = 0.0108516976063\n",
      "Training accuracy = 0.859782903664, test accuracy = 0.855482093664\n",
      "After 150 out of 1000 backprop. Training error = 0.0784098248843, test error = 0.0106774474146\n",
      "Training accuracy = 0.862062415197, test accuracy = 0.858126721763\n",
      "After 160 out of 1000 backprop. Training error = 0.0769964895652, test error = 0.0105140804353\n",
      "Training accuracy = 0.864721845319, test accuracy = 0.860991735537\n",
      "After 170 out of 1000 backprop. Training error = 0.0756661925348, test error = 0.0103604524853\n",
      "Training accuracy = 0.867272727273, test accuracy = 0.862975206612\n",
      "After 180 out of 1000 backprop. Training error = 0.074410898139, test error = 0.0102155726107\n",
      "Training accuracy = 0.869579375848, test accuracy = 0.864297520661\n",
      "After 190 out of 1000 backprop. Training error = 0.0732236313621, test error = 0.0100785805162\n",
      "Training accuracy = 0.871858887381, test accuracy = 0.866170798898\n",
      "After 200 out of 1000 backprop. Training error = 0.0720982945995, test error = 0.00994872786632\n",
      "Training accuracy = 0.873568521031, test accuracy = 0.867933884298\n",
      "After 210 out of 1000 backprop. Training error = 0.0710295249812, test error = 0.0098253624405\n",
      "Training accuracy = 0.875332428765, test accuracy = 0.869641873278\n",
      "After 220 out of 1000 backprop. Training error = 0.0700125814499, test error = 0.00970791448012\n",
      "Training accuracy = 0.877530529172, test accuracy = 0.871074380165\n",
      "After 230 out of 1000 backprop. Training error = 0.0690432539556, test error = 0.00959588480604\n",
      "Training accuracy = 0.87921302578, test accuracy = 0.87217630854\n",
      "After 240 out of 1000 backprop. Training error = 0.0681177893259, test error = 0.00948883446834\n",
      "Training accuracy = 0.880705563094, test accuracy = 0.873663911846\n",
      "After 250 out of 1000 backprop. Training error = 0.0672328299213, test error = 0.00938637579829\n",
      "Training accuracy = 0.882333785617, test accuracy = 0.875151515152\n"
     ]
    },
    {
     "ename": "KeyboardInterrupt",
     "evalue": "",
     "output_type": "error",
     "traceback": [
      "\u001b[0;31m---------------------------------------------------------------------------\u001b[0m",
      "\u001b[0;31mKeyboardInterrupt\u001b[0m                         Traceback (most recent call last)",
      "\u001b[0;32m<ipython-input-6-ec2c96c7cd8c>\u001b[0m in \u001b[0;36m<module>\u001b[0;34m()\u001b[0m\n\u001b[1;32m     50\u001b[0m \u001b[0;34m\u001b[0m\u001b[0m\n\u001b[1;32m     51\u001b[0m     \u001b[0;31m# Feed example through network to compute output with updated weights\u001b[0m\u001b[0;34m\u001b[0m\u001b[0;34m\u001b[0m\u001b[0m\n\u001b[0;32m---> 52\u001b[0;31m     \u001b[0mo\u001b[0m\u001b[0;34m,\u001b[0m \u001b[0mh_list\u001b[0m \u001b[0;34m=\u001b[0m \u001b[0mneur_net\u001b[0m\u001b[0;34m(\u001b[0m\u001b[0mx_train\u001b[0m\u001b[0;34m,\u001b[0m \u001b[0mw_list\u001b[0m\u001b[0;34m,\u001b[0m \u001b[0mb\u001b[0m\u001b[0;34m,\u001b[0m \u001b[0mnum_lay\u001b[0m\u001b[0;34m)\u001b[0m\u001b[0;34m\u001b[0m\u001b[0m\n\u001b[0m\u001b[1;32m     53\u001b[0m \u001b[0;34m\u001b[0m\u001b[0m\n\u001b[1;32m     54\u001b[0m     \u001b[0;31m# For the output layer, compute the derivative of error and correction with updated weights\u001b[0m\u001b[0;34m\u001b[0m\u001b[0;34m\u001b[0m\u001b[0m\n",
      "\u001b[0;32m<ipython-input-1-440531b88394>\u001b[0m in \u001b[0;36mneur_net\u001b[0;34m(x, w_list, b, num_lay)\u001b[0m\n\u001b[1;32m     38\u001b[0m \u001b[0;34m\u001b[0m\u001b[0m\n\u001b[1;32m     39\u001b[0m         \u001b[0;31m# activation function for layer 1\u001b[0m\u001b[0;34m\u001b[0m\u001b[0;34m\u001b[0m\u001b[0m\n\u001b[0;32m---> 40\u001b[0;31m         \u001b[0mh\u001b[0m \u001b[0;34m=\u001b[0m \u001b[0mact_func\u001b[0m\u001b[0;34m(\u001b[0m\u001b[0ma\u001b[0m\u001b[0;34m)\u001b[0m\u001b[0;34m\u001b[0m\u001b[0m\n\u001b[0m\u001b[1;32m     41\u001b[0m         \u001b[0mh_list\u001b[0m\u001b[0;34m.\u001b[0m\u001b[0mappend\u001b[0m\u001b[0;34m(\u001b[0m\u001b[0mh\u001b[0m\u001b[0;34m)\u001b[0m\u001b[0;34m\u001b[0m\u001b[0m\n\u001b[1;32m     42\u001b[0m \u001b[0;34m\u001b[0m\u001b[0m\n",
      "\u001b[0;32m<ipython-input-1-440531b88394>\u001b[0m in \u001b[0;36mact_func\u001b[0;34m(a, switch_)\u001b[0m\n\u001b[1;32m      4\u001b[0m         \u001b[0mg\u001b[0m \u001b[0;34m=\u001b[0m \u001b[0ma\u001b[0m\u001b[0;34m\u001b[0m\u001b[0m\n\u001b[1;32m      5\u001b[0m     \u001b[0;32melif\u001b[0m \u001b[0mswitch_\u001b[0m \u001b[0;34m==\u001b[0m \u001b[0;36m2\u001b[0m\u001b[0;34m:\u001b[0m \u001b[0;31m# sigmoid activation\u001b[0m\u001b[0;34m\u001b[0m\u001b[0m\n\u001b[0;32m----> 6\u001b[0;31m         \u001b[0mg\u001b[0m \u001b[0;34m=\u001b[0m \u001b[0;36m1.0\u001b[0m \u001b[0;34m/\u001b[0m \u001b[0;34m(\u001b[0m\u001b[0;36m1.0\u001b[0m \u001b[0;34m+\u001b[0m \u001b[0mnp\u001b[0m\u001b[0;34m.\u001b[0m\u001b[0mexp\u001b[0m\u001b[0;34m(\u001b[0m\u001b[0;34m-\u001b[0m\u001b[0;36m1.0\u001b[0m \u001b[0;34m*\u001b[0m \u001b[0ma\u001b[0m\u001b[0;34m)\u001b[0m\u001b[0;34m)\u001b[0m\u001b[0;34m\u001b[0m\u001b[0m\n\u001b[0m\u001b[1;32m      7\u001b[0m     \u001b[0;32melif\u001b[0m \u001b[0mswitch_\u001b[0m \u001b[0;34m==\u001b[0m \u001b[0;36m3\u001b[0m\u001b[0;34m:\u001b[0m \u001b[0;31m# tanh() activation\u001b[0m\u001b[0;34m\u001b[0m\u001b[0m\n\u001b[1;32m      8\u001b[0m         \u001b[0mg\u001b[0m \u001b[0;34m=\u001b[0m \u001b[0mnp\u001b[0m\u001b[0;34m.\u001b[0m\u001b[0mtanh\u001b[0m\u001b[0;34m(\u001b[0m\u001b[0ma\u001b[0m\u001b[0;34m)\u001b[0m\u001b[0;34m\u001b[0m\u001b[0m\n",
      "\u001b[0;31mKeyboardInterrupt\u001b[0m: "
     ]
    }
   ],
   "source": [
    "# # # initialize weights and biases if you want to restart\n",
    "# w_list = init_weights(num_neur_per_lay)\n",
    "# #bias\n",
    "# b = init_bias(num_neur_per_lay )\n",
    "print('Before')\n",
    "print(num_neur_per_lay)\n",
    "# print(w_list)\n",
    "# print(b)\n",
    "[np.shape(w_) for w_ in w_list]\n",
    "\n",
    "alpha = 0.00001\n",
    "\n",
    "N_epoch = 1000\n",
    "\n",
    "###### True - use squared error as loss function; False - use log-likelihood as loss function\n",
    "is_squared_loss = False\n",
    "\n",
    "# Feed example through network to compute output with random weights\n",
    "o, h_list = neur_net(x_train, w_list, b, num_lay)\n",
    "\n",
    "# For the output layer, compute the error and correction\n",
    "# out_err = (y_train-o)\n",
    "out_der_err = error_der(o, y_train, is_squared_loss)\n",
    "# compute the output error\n",
    "out_err = error_func(o, y_train, is_squared_loss)\n",
    "\n",
    "print 'Training error with initial weights = '+str(out_err)\n",
    "print 'Training accuracy with initial weights = '+str(sum(np.argmax(o,0) == np.argmax(y_train,0)) / float(np.shape(o)[1]))\n",
    "o_test2, h_list2 = neur_net(x_test, w_list, b, num_lay)\n",
    "# print(o_test2)\n",
    "print 'Test accuracy with random weights = ' + str(sum(np.argmax(o_test2,0) == np.argmax(y_test,0)) / float(np.shape(o_test2)[1]))\n",
    "\n",
    "print 'Start backprop with alpha = ' +str(alpha)\n",
    "\n",
    "for i in range(N_epoch):\n",
    "\n",
    "    new_weight, prev_err, del_b = update_w(out_der_err, h_list[-1], h_list[-2], w_list[-1], alpha)\n",
    "    # update weight for output layer with alpha already included\n",
    "    w_list[-1] = new_weight\n",
    "    # update bias for output layer\n",
    "    b[-1] = b[-1] + alpha * np.mean(del_b,1,keepdims=True)\n",
    "    \n",
    "    # For the hidden layers, compute the error and correction\n",
    "    for j in range(num_lay-1):\n",
    "        new_weight, prev_err, del_b = update_w(prev_err, h_list[-2-j], h_list[-3-j], w_list[-2-j], alpha)\n",
    "        # update weight for hidden layer with alpha already included\n",
    "        w_list[-2-j] = new_weight\n",
    "        # update bias for hidden layers\n",
    "        b[-2-j] = b[-2-j] + alpha * np.mean(del_b,1,keepdims=True)\n",
    "        \n",
    "    # Feed example through network to compute output with updated weights\n",
    "    o, h_list = neur_net(x_train, w_list, b, num_lay)\n",
    "    \n",
    "    # For the output layer, compute the derivative of error and correction with updated weights\n",
    "    out_der_err = error_der(o, y_train, is_squared_loss)\n",
    "    # compute the output error\n",
    "    out_err = error_func(o, y_train, is_squared_loss)\n",
    "#     out_err = (y_train - o)\n",
    "    \n",
    "    \n",
    "    if (i% 10) == 0:\n",
    "        # neural net on test set\n",
    "        o_test, h_list_test = neur_net(x_test, w_list, b, num_lay)\n",
    "\n",
    "        # test error\n",
    "        test_out_err = error_func(o_test, y_test, True)\n",
    "        \n",
    "        print 'After '+ str(i)+' out of ' + str(N_epoch) + ' backprop. Training error = '+str(out_err)+\\\n",
    "            ', test error = ' + str(test_out_err)\n",
    "        print 'Training accuracy = '+str(sum(np.argmax(o,0) == np.argmax(y_train,0)) / float(np.shape(o)[1]))+\\\n",
    "            ', test accuracy = ' + str(sum(np.argmax(o_test,0) == np.argmax(y_test,0)) / float(np.shape(o_test)[1]))\n",
    "\n",
    "print(o)\n",
    "print(w_list)\n",
    "# print(b)\n",
    "# print(x)\n",
    "# [np.shape(w_) for w_ in w_list]\n",
    "# print(o_test[:,3])\n",
    "# print(np.argmax(o_test[:,3],0))\n",
    "# print(y_test[:,3])\n",
    "# print(np.argmax(y_test[:,3],0))\n"
   ]
  },
  {
   "cell_type": "code",
   "execution_count": null,
   "metadata": {
    "collapsed": true
   },
   "outputs": [],
   "source": []
  },
  {
   "cell_type": "code",
   "execution_count": 194,
   "metadata": {},
   "outputs": [
    {
     "name": "stdout",
     "output_type": "stream",
     "text": [
      "labels\n",
      "[[0 0 0 1]\n",
      " [0 0 1 0]\n",
      " [1 1 0 0]\n",
      " [0 0 0 0]]\n",
      "[2 2 1 0]\n",
      "pred\n",
      "[[ 0.25017745  0.25015237  0.25018604  0.2501771 ]\n",
      " [ 0.24996657  0.24974358  0.25010234  0.24995687]\n",
      " [ 0.24968433  0.24997873  0.24952314  0.24969512]\n",
      " [ 0.25017166  0.25012532  0.25018848  0.25017091]]\n",
      "[0 0 3 0]\n",
      "Training error = 0.0937536169098\n",
      "Training accuracy = 0.25\n",
      "[[ 0.2501771 ]\n",
      " [ 0.24995687]\n",
      " [ 0.24969512]\n",
      " [ 0.25017091]]\n",
      ", test accuracy = 1.0\n"
     ]
    }
   ],
   "source": [
    "out_err = error_func(o, y_train, True)\n",
    "print('labels')\n",
    "print(y_train)\n",
    "print(np.argmax(y_train,0))\n",
    "print('pred')\n",
    "print(o)\n",
    "print(np.argmax(o,0))\n",
    "print 'Training error = '+str(out_err)\n",
    "print 'Training accuracy = '+str(sum(np.argmax(o,0) == np.argmax(y_train,0)) / float(np.shape(o)[1]))\n",
    "o_test2, h_list2 = neur_net(x_test, w_list, b, num_lay)\n",
    "print(o_test2)\n",
    "print ', test accuracy = ' + str(sum(np.argmax(o_test2,0) == np.argmax(y_test,0)) / float(np.shape(o_test2)[1]))\n"
   ]
  },
  {
   "cell_type": "code",
   "execution_count": 147,
   "metadata": {},
   "outputs": [
    {
     "data": {
      "text/plain": [
       "-0.916290731874155"
      ]
     },
     "execution_count": 147,
     "metadata": {},
     "output_type": "execute_result"
    }
   ],
   "source": [
    "np.log(0.4)"
   ]
  },
  {
   "cell_type": "code",
   "execution_count": 244,
   "metadata": {},
   "outputs": [
    {
     "name": "stdout",
     "output_type": "stream",
     "text": [
      "[[0 0 0 1]\n",
      " [0 0 1 0]\n",
      " [1 1 0 0]\n",
      " [0 0 0 0]]\n",
      "o\n",
      "[[ nan  nan  nan  nan]\n",
      " [ nan  nan  nan  nan]\n",
      " [ nan  nan  nan  nan]\n",
      " [ nan  nan  nan  nan]]\n",
      "0.0\n",
      "[[ nan  nan  nan  nan]\n",
      " [ nan  nan  nan  nan]\n",
      " [ nan  nan  nan  nan]\n",
      " [ nan  nan  nan  nan]]\n"
     ]
    }
   ],
   "source": [
    "o, h_list = neur_net(x_train, w_list, b, num_lay)\n",
    "print(y_train)\n",
    "# print(o_reg)\n",
    "print('o')\n",
    "print(o)\n",
    "# print(np.sum(o,0,keepdims=True))\n",
    "\n",
    "print(error_func(o, y_train, False))\n",
    "\n",
    "print(error_der(o, y_train, False))\n",
    "# print('SSE')\n",
    "# print(- (y_train - o))\n",
    "\n",
    "# print('log-likelihood')\n",
    "# print(- np.divide(y_train, o))\n"
   ]
  },
  {
   "cell_type": "code",
   "execution_count": 306,
   "metadata": {},
   "outputs": [
    {
     "name": "stdout",
     "output_type": "stream",
     "text": [
      "0\n",
      "1\n",
      "2\n",
      "3\n"
     ]
    },
    {
     "data": {
      "image/png": "[encoded data removed]",
      "text/plain": [
       "<matplotlib.figure.Figure at 0x119cdfdd0>"
      ]
     },
     "metadata": {},
     "output_type": "display_data"
    }
   ],
   "source": [
    "import matplotlib.pyplot as plt\n",
    "a = np.arange(-2,2,0.2)\n",
    "lab = ('linear activation','sigmoid activation','tanh() activation','ReLU activation')\n",
    "for i in range(4):#[3]:\n",
    "    print i\n",
    "    plt.subplot(211)\n",
    "    plt.plot(a, act_func(a, i+1), label=lab[i])\n",
    "    plt.subplot(212)\n",
    "    plt.plot(a, der_act_func(a, i+1), label=lab[i])\n",
    "plt.subplot(211)\n",
    "plt.legend()\n",
    "plt.subplot(212)\n",
    "plt.legend()\n",
    "plt.show()"
   ]
  },
  {
   "cell_type": "markdown",
   "metadata": {},
   "source": [
    "log-likelihood (also called cross-entropy\n",
    "error function)\n",
    "y*log(o)\n",
    "y/o*do/dw\n",
    "y/o*o*(1-o)*dz/dw\n",
    "y*(1-o)*dz/dw\n",
    "\n",
    "sum squared error function\n",
    "1/2*(y-o)^2\n",
    "-(y-o)*do/dw\n",
    "-(y-o)*o*(1-o)*dz/dw\n",
    "(y-o)*o*(1-o)*dz/dw\n"
   ]
  },
  {
   "cell_type": "markdown",
   "metadata": {
    "collapsed": true
   },
   "source": [
    "I've run 1000 nodes and it reached 75% accuracy, but again, this is with squared error, not log-likelihood yet. That should be better for sure."
   ]
  },
  {
   "cell_type": "markdown",
   "metadata": {},
   "source": [
    "__Not needed__"
   ]
  },
  {
   "cell_type": "code",
   "execution_count": 31,
   "metadata": {},
   "outputs": [
    {
     "name": "stdout",
     "output_type": "stream",
     "text": [
      "new output [1, 0, 0]\n",
      "Result[[ 0.99986946]\n",
      " [ 0.17011654]]\n"
     ]
    }
   ],
   "source": [
    "print 'new output [1, 0, 0]'\n",
    "o, h_list = neur_net(np.array([[1,0,0]]).T, w_list, b, num_lay)\n",
    "print 'Result' + str(o)"
   ]
  },
  {
   "cell_type": "code",
   "execution_count": 32,
   "metadata": {},
   "outputs": [
    {
     "name": "stdout",
     "output_type": "stream",
     "text": [
      "[[-0.00922196  0.00777619  0.00653753 -0.0077548 ]\n",
      " [-0.00541096 -0.00078916 -0.00237167 -0.00180415]]\n",
      "[[ 0.00922196  0.00777619  0.00653753  0.0077548 ]\n",
      " [ 0.00541096  0.00078916  0.00237167  0.00180415]]\n",
      "0.00520830384613\n"
     ]
    }
   ],
   "source": [
    "out_err = (y-o)\n",
    "print(out_err)\n",
    "# np.mean(\n",
    "print(np.abs(out_err))\n",
    "print(np.mean(np.abs(out_err)))\n"
   ]
  },
  {
   "cell_type": "code",
   "execution_count": 102,
   "metadata": {},
   "outputs": [
    {
     "data": {
      "text/plain": [
       "0.10000000000000001"
      ]
     },
     "execution_count": 102,
     "metadata": {},
     "output_type": "execute_result"
    }
   ],
   "source": [
    "# np.mean(np.abs(test_out_err))"
   ]
  },
  {
   "cell_type": "code",
   "execution_count": 130,
   "metadata": {},
   "outputs": [
    {
     "name": "stdout",
     "output_type": "stream",
     "text": [
      "[[False False False ..., False False False]\n",
      " [False False False ..., False False False]\n",
      " [False False False ..., False False False]\n",
      " ..., \n",
      " [False False False ..., False False False]\n",
      " [False False False ..., False False False]\n",
      " [False False False ..., False False False]]\n"
     ]
    }
   ],
   "source": [
    "print(y_test==o_test)"
   ]
  },
  {
   "cell_type": "code",
   "execution_count": 210,
   "metadata": {},
   "outputs": [
    {
     "data": {
      "text/plain": [
       "array([0, 0, 0])"
      ]
     },
     "execution_count": 210,
     "metadata": {},
     "output_type": "execute_result"
    }
   ],
   "source": [
    "np.argmax(o_test[:,:3],0)"
   ]
  },
  {
   "cell_type": "code",
   "execution_count": 205,
   "metadata": {},
   "outputs": [
    {
     "data": {
      "text/plain": [
       "(18150,)"
      ]
     },
     "execution_count": 205,
     "metadata": {},
     "output_type": "execute_result"
    }
   ],
   "source": [
    "np.shape(np.argmax(o_test,0))"
   ]
  },
  {
   "cell_type": "code",
   "execution_count": 165,
   "metadata": {},
   "outputs": [
    {
     "data": {
      "text/plain": [
       "0"
      ]
     },
     "execution_count": 165,
     "metadata": {},
     "output_type": "execute_result"
    }
   ],
   "source": [
    "sum(np.argmax(o_test,0) == np.argmax(y_test,0)) / np.shape(o_test)[1]"
   ]
  },
  {
   "cell_type": "code",
   "execution_count": 208,
   "metadata": {},
   "outputs": [
    {
     "data": {
      "text/plain": [
       "array([0, 0, 0, ..., 0, 0, 0])"
      ]
     },
     "execution_count": 208,
     "metadata": {},
     "output_type": "execute_result"
    }
   ],
   "source": [
    "np.argmax(o_test,0)"
   ]
  },
  {
   "cell_type": "code",
   "execution_count": 207,
   "metadata": {},
   "outputs": [
    {
     "data": {
      "text/plain": [
       "array([8, 5, 5, ..., 2, 4, 9])"
      ]
     },
     "execution_count": 207,
     "metadata": {},
     "output_type": "execute_result"
    }
   ],
   "source": [
    "np.argmax(y_test,0)"
   ]
  },
  {
   "cell_type": "code",
   "execution_count": 331,
   "metadata": {},
   "outputs": [
    {
     "name": "stdout",
     "output_type": "stream",
     "text": [
      "[[ 2.84744453  2.84744453  2.84744453  2.84744453]\n",
      " [ 3.84744453  3.84744453  3.84744453  3.84744453]\n",
      " [ 3.84744453  3.84744453  3.84744453  3.84744453]\n",
      " [ 3.84744453  3.84744453  3.84744453  3.84744453]\n",
      " [ 3.84744453  3.84744453  3.84744453  3.84744453]\n",
      " [ 3.84744453  3.84744453  3.84744453  3.84744453]\n",
      " [ 3.84744453  3.84744453  3.84744453  3.84744453]\n",
      " [ 3.84744453  3.84744453  3.84744453  3.84744453]\n",
      " [ 3.84744453  3.84744453  3.84744453  3.84744453]\n",
      " [ 3.84744453  3.84744453  3.84744453  3.84744453]]\n",
      "[0 0 0 0]\n",
      "[[ 0.  0.  1.  0.]\n",
      " [ 0.  0.  0.  0.]\n",
      " [ 1.  1.  0.  1.]\n",
      " [ 0.  0.  0.  0.]\n",
      " [ 0.  0.  0.  0.]\n",
      " [ 0.  0.  0.  0.]\n",
      " [ 0.  0.  0.  0.]\n",
      " [ 0.  0.  0.  0.]\n",
      " [ 0.  0.  0.  0.]\n",
      " [ 0.  0.  0.  0.]]\n",
      "[2 2 0 2]\n"
     ]
    },
    {
     "data": {
      "text/plain": [
       "array([0, 0, 0, 0])"
      ]
     },
     "execution_count": 331,
     "metadata": {},
     "output_type": "execute_result"
    }
   ],
   "source": [
    "# print(o_test[:,:4])\n",
    "print(-np.log(softmax(o_test[:,:4])))\n",
    "print(np.argmax(softmax(o_test[:,:4]),0))\n",
    "print(y_test[:,:4])\n",
    "print(np.argmax(y_test[:,:4],0))\n",
    "np.argmax(o_test[:,:4],0)"
   ]
  },
  {
   "cell_type": "code",
   "execution_count": null,
   "metadata": {
    "collapsed": true
   },
   "outputs": [],
   "source": []
  }
 ],
 "metadata": {
  "kernelspec": {
   "display_name": "Python [conda env:py27]",
   "language": "python",
   "name": "conda-env-py27-py"
  },
  "language_info": {
   "codemirror_mode": {
    "name": "ipython",
    "version": 2
   },
   "file_extension": ".py",
   "mimetype": "text/x-python",
   "name": "python",
   "nbconvert_exporter": "python",
   "pygments_lexer": "ipython2",
   "version": "2.7.13"
  }
 },
 "nbformat": 4,
 "nbformat_minor": 2
}
